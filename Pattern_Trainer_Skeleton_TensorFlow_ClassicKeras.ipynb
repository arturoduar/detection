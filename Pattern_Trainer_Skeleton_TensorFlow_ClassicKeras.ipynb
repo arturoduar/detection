{
  "nbformat": 4,
  "nbformat_minor": 0,
  "metadata": {
    "colab": {
      "name": "Pattern Trainer Skeleton - TensorFlow/ClassicKeras",
      "provenance": [],
      "collapsed_sections": [],
      "authorship_tag": "ABX9TyPyPxrihBN3vuveLyUG6fpN",
      "include_colab_link": true
    },
    "kernelspec": {
      "name": "python3",
      "display_name": "Python 3"
    },
    "language_info": {
      "name": "python"
    },
    "accelerator": "GPU"
  },
  "cells": [
    {
      "cell_type": "markdown",
      "metadata": {
        "id": "view-in-github",
        "colab_type": "text"
      },
      "source": [
        "<a href=\"https://colab.research.google.com/github/arturoduar/detection/blob/main/Pattern_Trainer_Skeleton_TensorFlow_ClassicKeras.ipynb\" target=\"_parent\"><img src=\"https://colab.research.google.com/assets/colab-badge.svg\" alt=\"Open In Colab\"/></a>"
      ]
    },
    {
      "cell_type": "markdown",
      "metadata": {
        "id": "8tjJcaAjwlEi"
      },
      "source": [
        "Imports"
      ]
    },
    {
      "cell_type": "code",
      "metadata": {
        "id": "h5axOIY-v531"
      },
      "source": [
        "import tensorflow as tf\n",
        "\n",
        "import pandas as pd\n",
        "import numpy as np\n",
        "import matplotlib.pyplot as plt\n",
        "import seaborn as sns\n",
        "import random "
      ],
      "execution_count": 1,
      "outputs": []
    },
    {
      "cell_type": "code",
      "metadata": {
        "colab": {
          "base_uri": "https://localhost:8080/"
        },
        "id": "aMP5EXQ8wi8c",
        "outputId": "58b76ce3-c3e7-4fea-de1d-b479621fde6b"
      },
      "source": [
        "from google.colab import drive\n",
        "drive.mount('/content/drive')"
      ],
      "execution_count": 4,
      "outputs": [
        {
          "output_type": "stream",
          "text": [
            "Drive already mounted at /content/drive; to attempt to forcibly remount, call drive.mount(\"/content/drive\", force_remount=True).\n"
          ],
          "name": "stdout"
        }
      ]
    },
    {
      "cell_type": "markdown",
      "metadata": {
        "id": "yydKcYAN-UUN"
      },
      "source": [
        "Transfer Learn from ResNet50 "
      ]
    },
    {
      "cell_type": "code",
      "metadata": {
        "id": "u2YwnutEwqVS"
      },
      "source": [
        "# import only the base of trained model (convolution layers), i.e., --> include_top = False\n",
        "\n",
        "base_model = tf.keras.applications.ResNet50(weights = 'imagenet', include_top = False)"
      ],
      "execution_count": 5,
      "outputs": []
    },
    {
      "cell_type": "code",
      "metadata": {
        "id": "IqRgHF2h-KPU"
      },
      "source": [
        "print(base_model.summary())"
      ],
      "execution_count": null,
      "outputs": []
    },
    {
      "cell_type": "code",
      "metadata": {
        "id": "le9IDR3U-xuD"
      },
      "source": [
        "for i, layer in enumerate(base_model.layers):\n",
        "    print(i, layer.name)"
      ],
      "execution_count": null,
      "outputs": []
    },
    {
      "cell_type": "code",
      "metadata": {
        "id": "VFOhyIq0-KNK"
      },
      "source": [
        "x = base_model.output\n",
        "x = tf.keras.layers.GlobalAveragePooling2D()(x)"
      ],
      "execution_count": 7,
      "outputs": []
    },
    {
      "cell_type": "code",
      "metadata": {
        "id": "tg1n1MNd-KLU"
      },
      "source": [
        "# construct the final dense layers for output of N classes (6 in thid case)\n",
        "\n",
        "x = tf.keras.layers.Dense(1024, activation = 'relu')(x)\n",
        "x = tf.keras.layers.Dense(1024, activation = 'relu')(x)\n",
        "x = tf.keras.layers.Dense(1024, activation = 'relu')(x)\n",
        "x = tf.keras.layers.Dense(512, activation = 'relu')(x)\n",
        "preds = tf.keras.layers.Dense(6, activation = 'softmax')(x)"
      ],
      "execution_count": 12,
      "outputs": []
    },
    {
      "cell_type": "code",
      "metadata": {
        "id": "1JI8G9dAADTr"
      },
      "source": [
        "model = tf.keras.models.Model(inputs = base_model.input, outputs = preds)"
      ],
      "execution_count": 13,
      "outputs": []
    },
    {
      "cell_type": "code",
      "metadata": {
        "id": "6WIReXov-KI3"
      },
      "source": [
        "# Non trainable part (base layer)\n",
        "\n",
        "for layer in model.layers[:175]:\n",
        "    layer.trainable = False"
      ],
      "execution_count": 14,
      "outputs": []
    },
    {
      "cell_type": "code",
      "metadata": {
        "id": "juNsPKCkwqSB"
      },
      "source": [
        "# Trainable part - dense NN \n",
        "\n",
        "for layer in model.layers[175:]:\n",
        "    layer.trainable = True"
      ],
      "execution_count": 15,
      "outputs": []
    },
    {
      "cell_type": "markdown",
      "metadata": {
        "id": "ImkvLb5jAV2X"
      },
      "source": [
        "Load data for classifying N features from images \n",
        "\n",
        "Dir structure should be:\n",
        "\n",
        "\n",
        "    /DataDirectory/\n",
        "            class1/\n",
        "            class2/\n",
        "            ...\n",
        "            classN/\n",
        "\n"
      ]
    },
    {
      "cell_type": "code",
      "metadata": {
        "id": "EQk9GR2bAOSB"
      },
      "source": [
        "data_root = (\"/content/drive/MyDrive/detect/data/smaller_class_set\")\n"
      ],
      "execution_count": 16,
      "outputs": []
    },
    {
      "cell_type": "code",
      "metadata": {
        "id": "YAG-nRL1CKVn"
      },
      "source": [
        "# Image shape down to (224, 224) to match ResNet50\n",
        "\n",
        "IMAGE_SHAPE = (224, 224)\n",
        "TRAINING_DATA_DIR = str(data_root)"
      ],
      "execution_count": 17,
      "outputs": []
    },
    {
      "cell_type": "code",
      "metadata": {
        "id": "AbpAyMhHDBHb"
      },
      "source": [
        "datagen_kwargs = dict(preprocessing_function= tf.keras.applications.resnet50.preprocess_input, validation_split=.20)"
      ],
      "execution_count": 18,
      "outputs": []
    },
    {
      "cell_type": "code",
      "metadata": {
        "colab": {
          "base_uri": "https://localhost:8080/"
        },
        "id": "VSrjIWzADAoU",
        "outputId": "3ecd9fd9-abc6-4bc8-b051-8a7e03f59b31"
      },
      "source": [
        "valid_datagen = tf.keras.preprocessing.image.ImageDataGenerator(**datagen_kwargs)\n",
        "\n",
        "valid_generator = valid_datagen.flow_from_directory( TRAINING_DATA_DIR,\n",
        "                                                    subset=\"validation\",\n",
        "                                                    shuffle=True,\n",
        "                                                    color_mode = 'rgb',\n",
        "                                                    batch_size = 32,\n",
        "                                                    class_mode = 'categorical',\n",
        "                                                    target_size=IMAGE_SHAPE)\n",
        "\n",
        "train_datagen = tf.keras.preprocessing.image.ImageDataGenerator(**datagen_kwargs)\n",
        "\n",
        "train_generator = train_datagen.flow_from_directory( TRAINING_DATA_DIR,\n",
        "                                                    subset=\"training\",\n",
        "                                                    shuffle=True,\n",
        "                                                    color_mode = 'rgb',\n",
        "                                                    batch_size = 32,\n",
        "                                                    class_mode = 'categorical',\n",
        "                                                    target_size=IMAGE_SHAPE)"
      ],
      "execution_count": 19,
      "outputs": [
        {
          "output_type": "stream",
          "text": [
            "Found 3117 images belonging to 6 classes.\n",
            "Found 12487 images belonging to 6 classes.\n"
          ],
          "name": "stdout"
        }
      ]
    },
    {
      "cell_type": "code",
      "metadata": {
        "colab": {
          "base_uri": "https://localhost:8080/"
        },
        "id": "6if_vAS6F9tO",
        "outputId": "0c4c33c1-8011-4415-85fb-8058a4269f02"
      },
      "source": [
        "print (train_generator.class_indices)"
      ],
      "execution_count": 20,
      "outputs": [
        {
          "output_type": "stream",
          "text": [
            "{'floral': 0, 'graphics': 1, 'plaid': 2, 'solid': 3, 'spotted': 4, 'striped': 5}\n"
          ],
          "name": "stdout"
        }
      ]
    },
    {
      "cell_type": "code",
      "metadata": {
        "id": "7vM5XuJOGUm6"
      },
      "source": [
        "model.compile(optimizer = 'Adam', loss = 'categorical_crossentropy', metrics = ['accuracy'])"
      ],
      "execution_count": 21,
      "outputs": []
    },
    {
      "cell_type": "markdown",
      "metadata": {
        "id": "8y1_qHN0HVk0"
      },
      "source": [
        "Do the training"
      ]
    },
    {
      "cell_type": "code",
      "metadata": {
        "colab": {
          "base_uri": "https://localhost:8080/"
        },
        "id": "GFkCQ949HUfI",
        "outputId": "77a1cb51-0491-4498-fde1-fe1fc8e78764"
      },
      "source": [
        "steps_per_epoch = np.ceil(train_generator.samples/train_generator.batch_size)\n",
        "val_steps_per_epoch = np.ceil(valid_generator.samples/valid_generator.batch_size)\n",
        "\n",
        "hist = model.fit( train_generator, \n",
        "                epochs=5,\n",
        "                #verbose=1,\n",
        "                steps_per_epoch=steps_per_epoch,\n",
        "                validation_data=valid_generator,\n",
        "                validation_steps=val_steps_per_epoch).history"
      ],
      "execution_count": 22,
      "outputs": [
        {
          "output_type": "stream",
          "text": [
            "Epoch 1/5\n",
            "391/391 [==============================] - 4039s 10s/step - loss: 0.8911 - accuracy: 0.6793 - val_loss: 0.8055 - val_accuracy: 0.7267\n",
            "Epoch 2/5\n",
            "391/391 [==============================] - 70s 178ms/step - loss: 0.7523 - accuracy: 0.7265 - val_loss: 0.7257 - val_accuracy: 0.7295\n",
            "Epoch 3/5\n",
            "391/391 [==============================] - 69s 177ms/step - loss: 0.7024 - accuracy: 0.7468 - val_loss: 0.7292 - val_accuracy: 0.7295\n",
            "Epoch 4/5\n",
            "391/391 [==============================] - 70s 178ms/step - loss: 0.6612 - accuracy: 0.7697 - val_loss: 0.7176 - val_accuracy: 0.7642\n",
            "Epoch 5/5\n",
            "391/391 [==============================] - 69s 177ms/step - loss: 0.6029 - accuracy: 0.7939 - val_loss: 0.7060 - val_accuracy: 0.7526\n"
          ],
          "name": "stdout"
        }
      ]
    },
    {
      "cell_type": "code",
      "metadata": {
        "colab": {
          "base_uri": "https://localhost:8080/"
        },
        "id": "y_4vTHkOZdwk",
        "outputId": "1b03d37d-8487-4ae8-e29b-ac8495039118"
      },
      "source": [
        "final_loss, final_accuracy = model.evaluate(valid_generator, steps = val_steps_per_epoch)\n",
        "print(\"Final loss: {:.2f}\".format(final_loss))\n",
        "print(\"Final accuracy: {:.2f}%\".format(final_accuracy * 100))"
      ],
      "execution_count": 26,
      "outputs": [
        {
          "output_type": "stream",
          "text": [
            "98/98 [==============================] - 13s 131ms/step - loss: 0.7060 - accuracy: 0.7526\n",
            "Final loss: 0.71\n",
            "Final accuracy: 75.26%\n"
          ],
          "name": "stdout"
        }
      ]
    },
    {
      "cell_type": "code",
      "metadata": {
        "colab": {
          "base_uri": "https://localhost:8080/",
          "height": 566
        },
        "id": "IhBqm8zQH4Cb",
        "outputId": "4969f10c-013e-492a-b1ec-a7616d007b6d"
      },
      "source": [
        "plt.figure()\n",
        "plt.ylabel(\"Loss (training and validation)\")\n",
        "plt.xlabel(\"Training Steps\")\n",
        "plt.ylim([0,50])\n",
        "plt.plot(hist[\"loss\"])\n",
        "plt.plot(hist[\"val_loss\"])\n",
        "plt.figure()\n",
        "plt.ylabel(\"Accuracy (training and validation)\")\n",
        "plt.xlabel(\"Training Steps\")\n",
        "plt.ylim([0,1])\n",
        "plt.plot(hist[\"accuracy\"])\n",
        "plt.plot(hist[\"val_accuracy\"])"
      ],
      "execution_count": 28,
      "outputs": [
        {
          "output_type": "execute_result",
          "data": {
            "text/plain": [
              "[<matplotlib.lines.Line2D at 0x7fc15c0dd9d0>]"
            ]
          },
          "metadata": {
            "tags": []
          },
          "execution_count": 28
        },
        {
          "output_type": "display_data",
          "data": {
            "image/png": "[encoded data removed]",
            "text/plain": [
              "<Figure size 432x288 with 1 Axes>"
            ]
          },
          "metadata": {
            "tags": [],
            "needs_background": "light"
          }
        },
        {
          "output_type": "display_data",
          "data": {
            "image/png": "[encoded data removed]",
            "text/plain": [
              "<Figure size 432x288 with 1 Axes>"
            ]
          },
          "metadata": {
            "tags": [],
            "needs_background": "light"
          }
        }
      ]
    },
    {
      "cell_type": "code",
      "metadata": {
        "id": "ia1Psmm3AUlv"
      },
      "source": [
        ""
      ],
      "execution_count": null,
      "outputs": []
    }
  ]
}