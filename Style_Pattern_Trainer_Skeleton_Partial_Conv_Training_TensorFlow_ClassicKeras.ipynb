{
  "nbformat": 4,
  "nbformat_minor": 0,
  "metadata": {
    "accelerator": "GPU",
    "colab": {
      "name": "Style/Pattern Trainer Skeleton Partial Conv Training - TensorFlow/ClassicKeras",
      "provenance": [],
      "collapsed_sections": [],
      "mount_file_id": "1IMOFGrsJoDudwxLg5OZHa_liunwj8X-T",
      "authorship_tag": "ABX9TyPOJahIq6uZJ4Lmrkon4u1Z",
      "include_colab_link": true
    },
    "kernelspec": {
      "display_name": "Python 3",
      "name": "python3"
    },
    "language_info": {
      "name": "python"
    }
  },
  "cells": [
    {
      "cell_type": "markdown",
      "metadata": {
        "id": "view-in-github",
        "colab_type": "text"
      },
      "source": [
        "<a href=\"https://colab.research.google.com/github/arturoduar/detection/blob/main/Style_Pattern_Trainer_Skeleton_Partial_Conv_Training_TensorFlow_ClassicKeras.ipynb\" target=\"_parent\"><img src=\"https://colab.research.google.com/assets/colab-badge.svg\" alt=\"Open In Colab\"/></a>"
      ]
    },
    {
      "cell_type": "markdown",
      "metadata": {
        "id": "8tjJcaAjwlEi"
      },
      "source": [
        "Imports"
      ]
    },
    {
      "cell_type": "code",
      "metadata": {
        "id": "h5axOIY-v531"
      },
      "source": [
        "import tensorflow as tf\n",
        "\n",
        "import pandas as pd\n",
        "import numpy as np\n",
        "import matplotlib.pyplot as plt\n",
        "import seaborn as sns\n",
        "import random "
      ],
      "execution_count": null,
      "outputs": []
    },
    {
      "cell_type": "code",
      "metadata": {
        "id": "aMP5EXQ8wi8c"
      },
      "source": [
        "from google.colab import drive\n",
        "drive.mount('/content/drive')"
      ],
      "execution_count": null,
      "outputs": []
    },
    {
      "cell_type": "markdown",
      "metadata": {
        "id": "yydKcYAN-UUN"
      },
      "source": [
        "Transfer Learn from ResNet50 "
      ]
    },
    {
      "cell_type": "code",
      "metadata": {
        "id": "u2YwnutEwqVS"
      },
      "source": [
        "# import only the base of trained model (convolution layers)\n",
        "base_model = tf.keras.applications.ResNet50(weights = 'imagenet', include_top = False)"
      ],
      "execution_count": null,
      "outputs": []
    },
    {
      "cell_type": "code",
      "metadata": {
        "id": "IqRgHF2h-KPU"
      },
      "source": [
        "print(base_model.summary())"
      ],
      "execution_count": null,
      "outputs": []
    },
    {
      "cell_type": "code",
      "metadata": {
        "id": "le9IDR3U-xuD"
      },
      "source": [
        "for i, layer in enumerate(base_model.layers):\n",
        "    print(i, layer.name)"
      ],
      "execution_count": null,
      "outputs": []
    },
    {
      "cell_type": "code",
      "metadata": {
        "id": "VFOhyIq0-KNK"
      },
      "source": [
        "x = base_model.output\n",
        "x = tf.keras.layers.GlobalAveragePooling2D()(x)\n"
      ],
      "execution_count": null,
      "outputs": []
    },
    {
      "cell_type": "code",
      "metadata": {
        "id": "tg1n1MNd-KLU"
      },
      "source": [
        "# construct the final dense layers for output of N classes (6 in thid case)\n",
        "\n",
        "x = tf.keras.layers.Dense(1024, activation = 'relu')(x)\n",
        "x = tf.keras.layers.Dense(1024, activation = 'relu')(x)\n",
        "x = tf.keras.layers.Dense(1024, activation = 'relu')(x)\n",
        "x = tf.keras.layers.Dense(512, activation = 'relu')(x)\n",
        "preds = tf.keras.layers.Dense(18, activation = 'softmax')(x)"
      ],
      "execution_count": null,
      "outputs": []
    },
    {
      "cell_type": "code",
      "metadata": {
        "id": "1JI8G9dAADTr"
      },
      "source": [
        "model = tf.keras.models.Model(inputs = base_model.input, outputs = preds)"
      ],
      "execution_count": null,
      "outputs": []
    },
    {
      "cell_type": "code",
      "metadata": {
        "id": "iDnpCMLPJW7T"
      },
      "source": [
        "# Train layers starting from train_threshold (including base layers) - ResNet50 has 175 conv layers\n",
        "train_threshold = 110 \n",
        "\n",
        "# Non-Trainable part - some base layers 0 - up to train_threshold (a number of conv layers are trained for fine-tuning / ty to reduce overfitting)\n",
        "for layer in model.layers[:train_threshold]:\n",
        "     layer.trainable = False\n",
        "\n",
        "# Trainable part - some base layers + dense NN \n",
        "for layer in model.layers[train_threshold:]:\n",
        "    layer.trainable = True     \n"
      ],
      "execution_count": null,
      "outputs": []
    },
    {
      "cell_type": "code",
      "metadata": {
        "id": "z0_n5BdsKqr9"
      },
      "source": [
        "print(model.summary())"
      ],
      "execution_count": null,
      "outputs": []
    },
    {
      "cell_type": "markdown",
      "metadata": {
        "id": "ImkvLb5jAV2X"
      },
      "source": [
        "Load data for classifying N features from images \n",
        "\n",
        "Dir structure should be:\n",
        "\n",
        "\n",
        "    /DataDirectory/\n",
        "            class1/\n",
        "            class2/\n",
        "            ...\n",
        "            classN/\n",
        "\n"
      ]
    },
    {
      "cell_type": "code",
      "metadata": {
        "id": "EQk9GR2bAOSB"
      },
      "source": [
        "data_root = (\"/content/drive/MyDrive/detect/data/style-dataset-sub/images\")\n"
      ],
      "execution_count": null,
      "outputs": []
    },
    {
      "cell_type": "code",
      "metadata": {
        "id": "YAG-nRL1CKVn"
      },
      "source": [
        "# Image shape down to (224, 224) to match ResNet50\n",
        "\n",
        "IMAGE_SHAPE = (224, 224)\n",
        "TRAINING_DATA_DIR = str(data_root)"
      ],
      "execution_count": null,
      "outputs": []
    },
    {
      "cell_type": "code",
      "metadata": {
        "id": "AbpAyMhHDBHb"
      },
      "source": [
        "datagen_kwargs = dict(preprocessing_function= tf.keras.applications.resnet50.preprocess_input, validation_split=.20)"
      ],
      "execution_count": null,
      "outputs": []
    },
    {
      "cell_type": "code",
      "metadata": {
        "id": "VSrjIWzADAoU"
      },
      "source": [
        "valid_datagen = tf.keras.preprocessing.image.ImageDataGenerator(**datagen_kwargs)\n",
        "\n",
        "valid_generator = valid_datagen.flow_from_directory( TRAINING_DATA_DIR,\n",
        "                                                    subset=\"validation\",\n",
        "                                                    shuffle=True,\n",
        "                                                    color_mode = 'rgb',\n",
        "                                                    batch_size = 32,\n",
        "                                                    class_mode = 'categorical',\n",
        "                                                    target_size=IMAGE_SHAPE)\n",
        "\n",
        "train_datagen = tf.keras.preprocessing.image.ImageDataGenerator(**datagen_kwargs)\n",
        "\n",
        "train_generator = train_datagen.flow_from_directory( TRAINING_DATA_DIR,\n",
        "                                                    subset=\"training\",\n",
        "                                                    shuffle=False,\n",
        "                                                    color_mode = 'rgb',\n",
        "                                                    batch_size = 32,\n",
        "                                                    class_mode = 'categorical',\n",
        "                                                    target_size=IMAGE_SHAPE)"
      ],
      "execution_count": null,
      "outputs": []
    },
    {
      "cell_type": "code",
      "metadata": {
        "id": "6if_vAS6F9tO"
      },
      "source": [
        "print (train_generator.class_indices)"
      ],
      "execution_count": null,
      "outputs": []
    },
    {
      "cell_type": "code",
      "metadata": {
        "id": "7vM5XuJOGUm6"
      },
      "source": [
        "from keras.optimizers import Adam\n",
        "model.compile(optimizer=Adam(learning_rate=0.001), loss = 'categorical_crossentropy', metrics = ['accuracy'])"
      ],
      "execution_count": null,
      "outputs": []
    },
    {
      "cell_type": "markdown",
      "metadata": {
        "id": "8y1_qHN0HVk0"
      },
      "source": [
        "Do the training"
      ]
    },
    {
      "cell_type": "code",
      "metadata": {
        "id": "GFkCQ949HUfI"
      },
      "source": [
        "steps_per_epoch = np.ceil(train_generator.samples/train_generator.batch_size)\n",
        "val_steps_per_epoch = np.ceil(valid_generator.samples/valid_generator.batch_size)\n",
        "\n",
        "hist = model.fit( train_generator, \n",
        "                epochs=70,\n",
        "                #verbose=1,\n",
        "                steps_per_epoch=steps_per_epoch,\n",
        "                validation_data=valid_generator,\n",
        "                validation_steps=val_steps_per_epoch).history"
      ],
      "execution_count": null,
      "outputs": []
    },
    {
      "cell_type": "code",
      "metadata": {
        "colab": {
          "base_uri": "https://localhost:8080/"
        },
        "id": "y_4vTHkOZdwk",
        "outputId": "412a3497-ac8e-4b72-f0fe-98e4010e2aa2"
      },
      "source": [
        "final_loss, final_accuracy = model.evaluate(valid_generator, steps = val_steps_per_epoch)\n",
        "print(\"Final loss: {:.2f}\".format(final_loss))\n",
        "print(\"Final accuracy: {:.2f}%\".format(final_accuracy * 100))"
      ],
      "execution_count": null,
      "outputs": [
        {
          "output_type": "stream",
          "text": [
            "106/106 [==============================] - 16s 153ms/step - loss: 2.5814 - accuracy: 0.7325\n",
            "Final loss: 2.58\n",
            "Final accuracy: 73.25%\n"
          ],
          "name": "stdout"
        }
      ]
    },
    {
      "cell_type": "code",
      "metadata": {
        "id": "IhBqm8zQH4Cb"
      },
      "source": [
        "plt.figure()\n",
        "plt.ylabel(\"Loss (training and validation)\")\n",
        "plt.xlabel(\"Training Steps\")\n",
        "plt.ylim([0,50])\n",
        "plt.plot(hist[\"loss\"])\n",
        "plt.plot(hist[\"val_loss\"])\n",
        "plt.figure()\n",
        "plt.ylabel(\"Accuracy (training and validation)\")\n",
        "plt.xlabel(\"Training Steps\")\n",
        "plt.ylim([0,1])\n",
        "plt.plot(hist[\"accuracy\"])\n",
        "plt.plot(hist[\"val_accuracy\"])"
      ],
      "execution_count": null,
      "outputs": []
    },
    {
      "cell_type": "code",
      "metadata": {
        "id": "ia1Psmm3AUlv"
      },
      "source": [
        "# save the model to drive\n",
        "model.save(\"/content/drive/MyDrive/detect/style_models/style_predictor1\")"
      ],
      "execution_count": null,
      "outputs": []
    },
    {
      "cell_type": "code",
      "metadata": {
        "id": "zrOD36WzCdza"
      },
      "source": [
        "# fetch the model from drive (just to test it was generated correctly)\n",
        "from keras.models import load_model\n",
        "model2 = load_model(\"/content/drive/MyDrive/detect/style_models/style_predictor1\")"
      ],
      "execution_count": null,
      "outputs": []
    },
    {
      "cell_type": "code",
      "metadata": {
        "id": "jq_1CefVZ6sg"
      },
      "source": [
        "# run stored model on validation set\n",
        "final_loss, final_accuracy = model2.evaluate(valid_generator, steps = val_steps_per_epoch)\n",
        "print(\"Final loss: {:.2f}\".format(final_loss))\n",
        "print(\"Final accuracy: {:.2f}%\".format(final_accuracy * 100))"
      ],
      "execution_count": null,
      "outputs": []
    },
    {
      "cell_type": "code",
      "metadata": {
        "colab": {
          "base_uri": "https://localhost:8080/",
          "height": 566
        },
        "id": "nJSOf24JaMLd",
        "outputId": "ebd56ebf-c8a8-4a12-9944-99224a2f1bf8"
      },
      "source": [
        "plt.figure()\n",
        "plt.ylabel(\"Loss (training and validation)\")\n",
        "plt.xlabel(\"Training Steps\")\n",
        "plt.ylim([0,50])\n",
        "plt.plot(hist[\"loss\"])\n",
        "plt.plot(hist[\"val_loss\"])\n",
        "plt.figure()\n",
        "plt.ylabel(\"Accuracy (training and validation)\")\n",
        "plt.xlabel(\"Training Steps\")\n",
        "plt.ylim([0,1])\n",
        "plt.plot(hist[\"accuracy\"])\n",
        "plt.plot(hist[\"val_accuracy\"])"
      ],
      "execution_count": null,
      "outputs": [
        {
          "output_type": "execute_result",
          "data": {
            "text/plain": [
              "[<matplotlib.lines.Line2D at 0x7fa6f20ac590>]"
            ]
          },
          "metadata": {
            "tags": []
          },
          "execution_count": 28
        },
        {
          "output_type": "display_data",
          "data": {
            "image/png": "[encoded data removed]",
            "text/plain": [
              "<Figure size 432x288 with 1 Axes>"
            ]
          },
          "metadata": {
            "tags": [],
            "needs_background": "light"
          }
        },
        {
          "output_type": "display_data",
          "data": {
            "image/png": "[encoded data removed]",
            "text/plain": [
              "<Figure size 432x288 with 1 Axes>"
            ]
          },
          "metadata": {
            "tags": [],
            "needs_background": "light"
          }
        }
      ]
    },
    {
      "cell_type": "code",
      "metadata": {
        "id": "ohbnHZMFCyPm"
      },
      "source": [
        "from sklearn.metrics import classification_report, confusion_matrix\n",
        "import matplotlib.pyplot as plt\n",
        "from sklearn import metrics\n",
        "Y_pred = model2.predict_generator(valid_generator, val_steps_per_epoch)\n",
        "y_pred = np.argmax(Y_pred, axis=1)"
      ],
      "execution_count": null,
      "outputs": []
    },
    {
      "cell_type": "code",
      "metadata": {
        "id": "vDALrAgppqVw"
      },
      "source": [
        "print('Confusion Matrix')\n",
        "cm = confusion_matrix(valid_generator.classes, y_pred)\n",
        "print(cm)"
      ],
      "execution_count": null,
      "outputs": []
    },
    {
      "cell_type": "code",
      "metadata": {
        "id": "d1zpX-ETprHT"
      },
      "source": [
        "print('Classification Report')\n",
        "target_names = ['Bohemian', 'Casual', 'Conservative', 'Dressy', 'Elegant', 'Ethnic', 'Fairy', 'Feminine', 'Glamour', 'Lolita', 'Mode', 'Modest', 'Preppy', 'Retro', 'Rock', 'Sexy',  'Sporty', 'Street']\n",
        "print(classification_report(valid_generator.classes, y_pred, target_names=target_names))"
      ],
      "execution_count": null,
      "outputs": []
    },
    {
      "cell_type": "code",
      "metadata": {
        "id": "CIYO9ISupvpB"
      },
      "source": [
        "disp = metrics.ConfusionMatrixDisplay(confusion_matrix=cm, display_labels=target_names)\n",
        "print(f\"Confusion matrix:\\n{disp.confusion_matrix}\")\n",
        "\n",
        "fig, ax = plt.subplots(figsize=(15,15))\n",
        "disp.plot(ax=ax, values_format='')"
      ],
      "execution_count": null,
      "outputs": []
    }
  ]
}